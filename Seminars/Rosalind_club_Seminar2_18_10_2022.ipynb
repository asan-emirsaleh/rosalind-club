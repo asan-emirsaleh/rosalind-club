{
 "cells": [
  {
   "cell_type": "markdown",
   "id": "8893e8f0",
   "metadata": {
    "slideshow": {
     "slide_type": "slide"
    }
   },
   "source": [
    "# <center>  Anti-rosalind Rosalind club"
   ]
  },
  {
   "cell_type": "markdown",
   "id": "11171e50",
   "metadata": {
    "slideshow": {
     "slide_type": "-"
    }
   },
   "source": [
    "## Seminar 2, 18.10.2022\n",
    "\n",
    "This is the seminar on solving bioinformatics problems from [Rosalind](https://rosalind.info/problems/locations/) platform.\n",
    "\n",
    "Teching assistants:\n",
    "\n",
    "- Nikita Vaulin, Nikita.Vaulin@skoltech.ru, tg: @nvaulin\n",
    "    \n",
    "- Oksana Kotovskaya, Oksana.Kotovskaya@skoltech.ru"
   ]
  },
  {
   "cell_type": "code",
   "execution_count": 1,
   "id": "8e4be632",
   "metadata": {
    "slideshow": {
     "slide_type": "subslide"
    }
   },
   "outputs": [
    {
     "name": "stdout",
     "output_type": "stream",
     "text": [
      "input\\file.txt\n"
     ]
    }
   ],
   "source": [
    "import os.path\n",
    "import pyperclip\n",
    "\n",
    "\n",
    "filename = os.path.join('input', 'file.txt')\n",
    "print(filename)"
   ]
  },
  {
   "cell_type": "markdown",
   "id": "e6e5529d",
   "metadata": {
    "slideshow": {
     "slide_type": "slide"
    }
   },
   "source": [
    "### F-strings"
   ]
  },
  {
   "cell_type": "code",
   "execution_count": 15,
   "id": "cc92bb06",
   "metadata": {
    "slideshow": {
     "slide_type": "-"
    }
   },
   "outputs": [
    {
     "name": "stdout",
     "output_type": "stream",
     "text": [
      "Hi, Nikita!\n",
      "Hi, nikita!\n"
     ]
    }
   ],
   "source": [
    "name = 'Nikita'\n",
    "print('Hi, Nikita!')\n",
    "\n",
    "phrase1 = f'Hi, {name}!'\n",
    "phrase2 = f'Hi, {name.lower()}!'\n",
    "\n",
    "print(phrase1)\n",
    "print(phrase2)"
   ]
  },
  {
   "cell_type": "code",
   "execution_count": 3,
   "id": "4d03400f",
   "metadata": {
    "slideshow": {
     "slide_type": "-"
    }
   },
   "outputs": [
    {
     "name": "stdout",
     "output_type": "stream",
     "text": [
      "Hi, The Good!\n",
      "Hi, The Bad!\n",
      "Hi, The Ugly!\n"
     ]
    }
   ],
   "source": [
    "names = ['The Good', 'The Bad', 'The Ugly']\n",
    "\n",
    "for name in names:\n",
    "    print(f'Hi, {name}!')"
   ]
  },
  {
   "cell_type": "code",
   "execution_count": 4,
   "id": "54ebfad6",
   "metadata": {
    "slideshow": {
     "slide_type": "slide"
    }
   },
   "outputs": [
    {
     "name": "stdout",
     "output_type": "stream",
     "text": [
      " My 22\n",
      " My age = 22\n"
     ]
    }
   ],
   "source": [
    "age = 22\n",
    "print(f' My {age}')\n",
    "print(f' My {age = }')"
   ]
  },
  {
   "cell_type": "code",
   "execution_count": 5,
   "id": "9ce6992a",
   "metadata": {
    "slideshow": {
     "slide_type": "-"
    }
   },
   "outputs": [
    {
     "name": "stdout",
     "output_type": "stream",
     "text": [
      "Precisely, My age = 22.000\n"
     ]
    }
   ],
   "source": [
    "print(f'Precisely, My {age = :.3f}')"
   ]
  },
  {
   "cell_type": "code",
   "execution_count": 6,
   "id": "092c5bb3",
   "metadata": {
    "slideshow": {
     "slide_type": "-"
    }
   },
   "outputs": [
    {
     "name": "stdout",
     "output_type": "stream",
     "text": [
      " My age = 22, that is 21 more than 21 years ago!\n"
     ]
    }
   ],
   "source": [
    "print(f' My {age = }, that is {age-1} more than {age-1} years ago!')"
   ]
  },
  {
   "cell_type": "markdown",
   "id": "fa9548b7",
   "metadata": {
    "slideshow": {
     "slide_type": "slide"
    }
   },
   "source": [
    "We want to do some data analysis with controling files names. We can easily manage filenames with `f-strings`"
   ]
  },
  {
   "cell_type": "code",
   "execution_count": 7,
   "id": "5f32d652",
   "metadata": {
    "slideshow": {
     "slide_type": "slide"
    }
   },
   "outputs": [
    {
     "name": "stdout",
     "output_type": "stream",
     "text": [
      "Writing file output\\S1_Ch1_processed.fasta\n",
      "Writing file output\\S1_Ch2_processed.fasta\n",
      "Writing file output\\S2_Ch1_processed.fasta\n",
      "Writing file output\\S2_Ch2_processed.fasta\n",
      "Writing file output\\S3_Ch1_processed.fasta\n",
      "Writing file output\\S3_Ch2_processed.fasta\n"
     ]
    }
   ],
   "source": [
    "def some_doings(data):\n",
    "    for i in range(1,10000):\n",
    "        nothing = 0\n",
    "    return data\n",
    "\n",
    "\n",
    "samples = [\n",
    "    'Sample_1_Chromosome_1', 'Sample_1_Chromosome_2',\n",
    "    'Sample_2_Chromosome_1', 'Sample_2_Chromosome_2',\n",
    "    'Sample_3_Chromosome_1', 'Sample_3_Chromosome_2'\n",
    "]\n",
    "\n",
    "for sample in samples:\n",
    "    sample = some_doings(sample)\n",
    "    _ , s, _, c = sample.split('_')\n",
    "    filename = f'S{s}_Ch{c}_processed.fasta'\n",
    "    filepath = os.path.join('output', filename)\n",
    "    print(f'Writing file ' + filepath)"
   ]
  },
  {
   "cell_type": "code",
   "execution_count": 62,
   "id": "fc3331ad",
   "metadata": {
    "slideshow": {
     "slide_type": "slide"
    }
   },
   "outputs": [
    {
     "name": "stdout",
     "output_type": "stream",
     "text": [
      "2022 10 18\n"
     ]
    }
   ],
   "source": [
    "import datetime\n",
    "today = datetime.datetime.today()\n",
    "print(f\"{today:%Y %m %d}\")"
   ]
  },
  {
   "cell_type": "markdown",
   "id": "99ecf03b",
   "metadata": {
    "slideshow": {
     "slide_type": "slide"
    }
   },
   "source": [
    "And F-srings can be nested (вложенными)!"
   ]
  },
  {
   "cell_type": "code",
   "execution_count": 20,
   "id": "2f2672b6",
   "metadata": {
    "slideshow": {
     "slide_type": "-"
    }
   },
   "outputs": [
    {
     "name": "stdout",
     "output_type": "stream",
     "text": [
      "-*+.F-string.+*-\n"
     ]
    }
   ],
   "source": [
    "x = 'F-string'\n",
    "\n",
    "print(f'''-{f\"\"\"*{f\"+{f'.{x}.'}+\"}*\"\"\"}-''')"
   ]
  },
  {
   "cell_type": "markdown",
   "id": "7b8d5bc8",
   "metadata": {},
   "source": [
    "That's just for fun..."
   ]
  },
  {
   "cell_type": "markdown",
   "id": "13809aa0",
   "metadata": {
    "slideshow": {
     "slide_type": "slide"
    }
   },
   "source": [
    "### Regular expressions\n",
    "\n",
    "A special set of symbols, a special language to work with texts (not really Natural Language Processing, but it's small brother)\n",
    "\n",
    "\n",
    "The https://regex101.com/ will be your very best friend when working with regex."
   ]
  },
  {
   "cell_type": "markdown",
   "id": "09ec2ea0",
   "metadata": {
    "slideshow": {
     "slide_type": "-"
    }
   },
   "source": [
    "> Regular expressions are not read, they are written"
   ]
  },
  {
   "cell_type": "markdown",
   "id": "c49c11f6",
   "metadata": {
    "slideshow": {
     "slide_type": "slide"
    }
   },
   "source": [
    "`. ^ $ * + ? { [ ] \\ | ( ) ... ` &#8594; text processing "
   ]
  },
  {
   "cell_type": "code",
   "execution_count": 63,
   "id": "e0d3a5a5",
   "metadata": {
    "slideshow": {
     "slide_type": "-"
    }
   },
   "outputs": [
    {
     "name": "stdout",
     "output_type": "stream",
     "text": [
      "['Lorem']\n"
     ]
    }
   ],
   "source": [
    "import re\n",
    "\n",
    "\n",
    "Text = 'Lorem ipsum dolor sit amet, consectetur adipiscing elit 666!'\n",
    "print(re.findall(r'Lorem', Text))"
   ]
  },
  {
   "cell_type": "markdown",
   "id": "bc678eaa",
   "metadata": {
    "slideshow": {
     "slide_type": "slide"
    }
   },
   "source": [
    "`.` - any single symbol\n",
    "\n",
    "`^` - string start\n",
    "\n",
    "`$` - string end\n",
    "\n",
    "`[]` - set of symbols\n",
    "\n",
    "`pattern{m}` - matching the pattern *m* times"
   ]
  },
  {
   "cell_type": "code",
   "execution_count": 66,
   "id": "697ef3ad",
   "metadata": {
    "slideshow": {
     "slide_type": "-"
    }
   },
   "outputs": [
    {
     "name": "stdout",
     "output_type": "stream",
     "text": [
      "['Lorem', 'morem', 'lorem', 'lorem']\n",
      "['Lorem']\n",
      "[]\n",
      "['Lorem', 'morem']\n",
      "['666']\n"
     ]
    }
   ],
   "source": [
    "Text = 'Lorem ipsum dolor sit amet, morem lorem 666 lorem!'\n",
    "print(re.findall(r'.orem', Text))\n",
    "print(re.findall(r'^.orem', Text))\n",
    "print(re.findall(r'.orem$', Text))\n",
    "print(re.findall(r'[Lm]orem', Text))\n",
    "print(re.findall(r'6{3}', Text))"
   ]
  },
  {
   "cell_type": "markdown",
   "id": "3b691d2d",
   "metadata": {
    "slideshow": {
     "slide_type": "slide"
    }
   },
   "source": [
    "`\\d` - digits\n",
    "\n",
    "`\\D` - any non-digit\n",
    "\n",
    "`\\w` - letters and digits\n",
    "\n"
   ]
  },
  {
   "cell_type": "code",
   "execution_count": 60,
   "id": "7ef44961",
   "metadata": {
    "slideshow": {
     "slide_type": "-"
    }
   },
   "outputs": [
    {
     "name": "stdout",
     "output_type": "stream",
     "text": [
      "['6', '6', '6']\n",
      "['L', 'o', 'r', 'e', 'm', ' ', 'i', 'p', 's', 'u', 'm', ' ', 'd', 'o', 'l', 'o', 'r', ' ', 's', 'i', 't', ' ', 'a', 'm', 'e', 't', ',', ' ', 'm', 'o', 'r', 'e', 'm', ' ', 'l', 'o', 'r', 'e', 'm', ' ', ' ', 'l', 'o', 'r', 'e', 'm', '!']\n",
      "['L', 'o', 'r', 'e', 'm', 'i', 'p', 's', 'u', 'm', 'd', 'o', 'l', 'o', 'r', 's', 'i', 't', 'a', 'm', 'e', 't', 'm', 'o', 'r', 'e', 'm', 'l', 'o', 'r', 'e', 'm', '6', '6', '6', 'l', 'o', 'r', 'e', 'm']\n"
     ]
    }
   ],
   "source": [
    "Text = 'Lorem ipsum dolor sit amet, morem lorem 666 lorem!'\n",
    "print(re.findall(r'\\d', Text))\n",
    "print(re.findall(r'\\D', Text))\n",
    "print(re.findall(r'\\w', Text))"
   ]
  },
  {
   "cell_type": "markdown",
   "id": "f625192e",
   "metadata": {
    "slideshow": {
     "slide_type": "slide"
    }
   },
   "source": [
    "And what?"
   ]
  },
  {
   "cell_type": "markdown",
   "id": "c25a26a8",
   "metadata": {
    "slideshow": {
     "slide_type": "-"
    }
   },
   "source": [
    "Q14.1 How many cloudy time slots were captured in autumn 2016? Including both start and end day.\n",
    "\n",
    "`mask = df_clean['date_time'].str.contains(\"^2016.(?:09|10|11)\")`"
   ]
  },
  {
   "cell_type": "markdown",
   "id": "998dd233",
   "metadata": {
    "slideshow": {
     "slide_type": "slide"
    }
   },
   "source": [
    "### #2. Bioinformatics Stronghold"
   ]
  },
  {
   "cell_type": "markdown",
   "id": "ee81cb89",
   "metadata": {
    "slideshow": {
     "slide_type": "-"
    }
   },
   "source": [
    "#### Translating RNA into Protein"
   ]
  },
  {
   "cell_type": "code",
   "execution_count": 89,
   "id": "676e5e43",
   "metadata": {
    "slideshow": {
     "slide_type": "slide"
    }
   },
   "outputs": [
    {
     "name": "stdout",
     "output_type": "stream",
     "text": [
      "CPU times: total: 6.73 s\n",
      "Wall time: 6.73 s\n"
     ]
    }
   ],
   "source": [
    "%%time\n",
    "\n",
    "filename = os.path.join('input', 'rosalind_prot_big.txt')\n",
    "\n",
    "with open(filename, \"r\") as f:\n",
    "    seq = f.readline().upper().strip()\n",
    "\n",
    "RNA_codons = {\"UUU\":\"F\", \"UUC\":\"F\", \"UUA\":\"L\", \"UUG\":\"L\",\n",
    "       \"UCU\":\"S\", \"UCC\":\"s\", \"UCA\":\"S\", \"UCG\":\"S\",\n",
    "       \"UAU\":\"Y\", \"UAC\":\"Y\", \"UAA\":\"STOP\", \"UAG\":\"STOP\",\n",
    "       \"UGU\":\"C\", \"UGC\":\"C\", \"UGA\":\"STOP\", \"UGG\":\"W\",\n",
    "       \"CUU\":\"L\", \"CUC\":\"L\", \"CUA\":\"L\", \"CUG\":\"L\",\n",
    "       \"CCU\":\"P\", \"CCC\":\"P\", \"CCA\":\"P\", \"CCG\":\"P\",\n",
    "       \"CAU\":\"H\", \"CAC\":\"H\", \"CAA\":\"Q\", \"CAG\":\"Q\",\n",
    "       \"CGU\":\"R\", \"CGC\":\"R\", \"CGA\":\"R\", \"CGG\":\"R\",\n",
    "       \"AUU\":\"I\", \"AUC\":\"I\", \"AUA\":\"I\", \"AUG\":\"M\",\n",
    "       \"ACU\":\"T\", \"ACC\":\"T\", \"ACA\":\"T\", \"ACG\":\"T\",\n",
    "       \"AAU\":\"N\", \"AAC\":\"N\", \"AAA\":\"K\", \"AAG\":\"K\",\n",
    "       \"AGU\":\"S\", \"AGC\":\"S\", \"AGA\":\"R\", \"AGG\":\"R\",\n",
    "       \"GUU\":\"V\", \"GUC\":\"V\", \"GUA\":\"V\", \"GUG\":\"V\",\n",
    "       \"GCU\":\"A\", \"GCC\":\"A\", \"GCA\":\"A\", \"GCG\":\"A\",\n",
    "       \"GAU\":\"D\", \"GAC\":\"D\", \"GAA\":\"E\", \"GAG\":\"E\",\n",
    "       \"GGU\":\"G\", \"GGC\":\"G\", \"GGA\":\"G\", \"GGG\":\"G\",}\n",
    "\n",
    "protein = []\n",
    "n = len(seq)\n",
    "for i in range(0, n, 3):\n",
    "    codon = seq[i:i+3]\n",
    "    protein.append(RNA_codons[codon])\n",
    "    \n",
    "protein = \"\".join(protein)\n",
    "pyperclip.copy(protein)"
   ]
  },
  {
   "cell_type": "code",
   "execution_count": 88,
   "id": "a0c7f343",
   "metadata": {
    "slideshow": {
     "slide_type": "slide"
    }
   },
   "outputs": [
    {
     "name": "stdout",
     "output_type": "stream",
     "text": [
      "CPU times: total: 359 ms\n",
      "Wall time: 348 ms\n"
     ]
    }
   ],
   "source": [
    "%%time\n",
    "from Bio.Seq import Seq\n",
    "\n",
    "\n",
    "filename = os.path.join('input', 'rosalind_prot_big.txt')\n",
    "\n",
    "with open(filename, \"r\") as f:\n",
    "    seq = f.readline().upper().strip()\n",
    "\n",
    "#protein = seq.translate()\n",
    "protein = seq.translate(to_stop=True)\n",
    "\n",
    "pyperclip.copy(str(protein))"
   ]
  }
 ],
 "metadata": {
  "celltoolbar": "Необработанный формат ячейки",
  "kernelspec": {
   "display_name": "Python 3 (ipykernel)",
   "language": "python",
   "name": "python3"
  },
  "language_info": {
   "codemirror_mode": {
    "name": "ipython",
    "version": 3
   },
   "file_extension": ".py",
   "mimetype": "text/x-python",
   "name": "python",
   "nbconvert_exporter": "python",
   "pygments_lexer": "ipython3",
   "version": "3.9.10"
  }
 },
 "nbformat": 4,
 "nbformat_minor": 5
}
