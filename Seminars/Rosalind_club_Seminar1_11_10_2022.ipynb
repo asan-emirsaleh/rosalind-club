{
 "cells": [
  {
   "cell_type": "markdown",
   "id": "8893e8f0",
   "metadata": {},
   "source": [
    "# <center>  Anti-rosalind Rosalind club"
   ]
  },
  {
   "cell_type": "markdown",
   "id": "11171e50",
   "metadata": {},
   "source": [
    "## Seminar 1, 11.10.2022\n",
    "\n",
    "This is the seminar on solving bioinformatics problems from [Rosalind](https://rosalind.info/problems/locations/) platform.\n",
    "\n",
    "Teching assistants:\n",
    "\n",
    "- Nikita Vaulin, Nikita.Vaulin@skoltech.ru, tg: @nvaulin\n",
    "    \n",
    "- Oksana Kotovskaya, Oksana.Kotovskaya@skoltech.ru"
   ]
  },
  {
   "cell_type": "markdown",
   "id": "95e921fe",
   "metadata": {},
   "source": [
    "***Notion 0***. Feel free to start using shortcuts when working with Jupyter Notebook:\n",
    "- To run the cell `Ctrl`+`Enter`\n",
    "- To run the cell and step to the next one `Shift` + `Enter`\n",
    "- To run the cell and create the new one `Alt` + `Enter`\n",
    "\n",
    "There are two modes of action: cell-editing (the line on the left is green) and cell-selecting (the line on the left is blue). \n",
    "\n",
    "- cell-editing mode &#8594; `Esc` &#8594; cell-selecting mode\n",
    "- cell-selecting mode &#8594; `Enter` &#8594; cell-editing mode\n",
    "\n",
    "In cell-selecting mode you can:\n",
    "\n",
    "- Delete  a cell - `DD`\n",
    "- Undo deleting - `Z`\n"
   ]
  },
  {
   "cell_type": "markdown",
   "id": "2db1f47f",
   "metadata": {},
   "source": [
    "***Notion 1***. On Rosalind platform input data is provided as a .txt file for download. In this regard, it is highly recommended to create a separate directory on your computer. Inside this directory it is convenient to store .ipynb notebooks and also create two additional directories: for input and output files."
   ]
  },
  {
   "cell_type": "code",
   "execution_count": 1,
   "id": "a2168f2a",
   "metadata": {},
   "outputs": [],
   "source": [
    "#Provide here your own directories\n",
    "input_dir = 'input/'\n",
    "output_dir = 'output/'"
   ]
  },
  {
   "cell_type": "markdown",
   "id": "19146b95",
   "metadata": {},
   "source": [
    "***Notion 2***. On the Rosalind platform, it is not the program code that needs to be submitted as an answer, but the final result. The result of the program can be attached as a file, or copied and pasted into the text field. In the case of a file attachment, the resulting files should be stored in a separate directory as described above.\n",
    "\n",
    "If you want to copy and paste text (as we will do at least for the first time), it is very convenient to use a special python library `pyperclip`. It allows you to copy data to the clipboard and paste from it\n",
    "\n",
    "To install this library, write on the command line:\n",
    "\n",
    "```\n",
    "pip install pyperclip\n",
    "```\n",
    "\n",
    "To open the command line in Windows, press `Win`+`R`, type `cmd` and hit `Enter`. "
   ]
  },
  {
   "cell_type": "code",
   "execution_count": 2,
   "id": "7c421217",
   "metadata": {},
   "outputs": [],
   "source": [
    "#First of all, we need to import our installed pretty library\n",
    "import pyperclip"
   ]
  },
  {
   "cell_type": "markdown",
   "id": "113a44d7",
   "metadata": {},
   "source": [
    "It can exchange text with the clipboard by commands\n",
    "```\n",
    "pyperclip.copy()\n",
    "pyperclip.paste() \n",
    "```\n",
    "\n",
    "After the `pyperclip.copy()` command was executed, you can just use `Crtl`+`V` to paste the text wherever you want"
   ]
  },
  {
   "cell_type": "markdown",
   "id": "2111c1a0",
   "metadata": {},
   "source": [
    "## <center> Let's move on!"
   ]
  },
  {
   "cell_type": "markdown",
   "id": "e6e5529d",
   "metadata": {},
   "source": [
    "### #2. Bioinformatics Stronghold"
   ]
  },
  {
   "cell_type": "markdown",
   "id": "ee81cb89",
   "metadata": {},
   "source": [
    "#### DNA: Counting DNA Nucleotides"
   ]
  },
  {
   "cell_type": "code",
   "execution_count": 3,
   "id": "676e5e43",
   "metadata": {},
   "outputs": [
    {
     "name": "stdout",
     "output_type": "stream",
     "text": [
      "221 206 185 219\n"
     ]
    }
   ],
   "source": [
    "# You can specify the name of the file to open here\n",
    "filename = f'{input_dir}rosalind_dna.txt'\n",
    "\n",
    "with open(filename, \"r\") as f:\n",
    "    seq = f.readline().upper().strip()\n",
    "\n",
    "numbers = []\n",
    "for n in ['A', 'C', 'G', 'T']:\n",
    "    numbers.append(str(seq.count(n)))\n",
    "    \n",
    "print(' '.join(numbers))\n",
    "pyperclip.copy(' '.join(numbers))"
   ]
  },
  {
   "cell_type": "markdown",
   "id": "d5da3c15",
   "metadata": {},
   "source": [
    "#### RNA: Transcribing DNA into RNA\n",
    "\n",
    "Here we provide you with to solitions: one is with `for` cycle and the other with apllying string method `.replace()`. The `%%time` magic method prints the time needed to run the cell - look at CPU time and compare this two ways! Imagine that your data is several orders of magnitude bigger.\n",
    "\n",
    "Also, we will not print long sequences - don't be afrade, it's working, it is in your clipboard, just use `Ctrl`+`V`."
   ]
  },
  {
   "cell_type": "code",
   "execution_count": 4,
   "id": "360359fc",
   "metadata": {},
   "outputs": [
    {
     "name": "stdout",
     "output_type": "stream",
     "text": [
      "CPU times: total: 15.6 ms\n",
      "Wall time: 14 ms\n"
     ]
    }
   ],
   "source": [
    "%%time\n",
    "\n",
    "filename = f'{input_dir}rosalind_rna.txt'\n",
    "\n",
    "with open(filename, \"r\") as f:\n",
    "    seq = f.readline().upper().strip()\n",
    "\n",
    "rna = ''\n",
    "for n in seq:\n",
    "    if n == \"T\":\n",
    "        rna += \"U\"\n",
    "    else:\n",
    "        rna += n\n",
    "\n",
    "pyperclip.copy(rna)"
   ]
  },
  {
   "cell_type": "markdown",
   "id": "1e929652",
   "metadata": {},
   "source": [
    "Another solution"
   ]
  },
  {
   "cell_type": "code",
   "execution_count": 5,
   "id": "86bb74b6",
   "metadata": {},
   "outputs": [
    {
     "name": "stdout",
     "output_type": "stream",
     "text": [
      "CPU times: total: 0 ns\n",
      "Wall time: 3 ms\n"
     ]
    }
   ],
   "source": [
    "%%time\n",
    "\n",
    "filename = f'{input_dir}rosalind_rna.txt'\n",
    "\n",
    "with open(filename, \"r\") as f:\n",
    "    seq = f.readline().upper().strip()\n",
    "\n",
    "rna = seq.replace('T', 'U')\n",
    "\n",
    "pyperclip.copy(rna)"
   ]
  },
  {
   "cell_type": "markdown",
   "id": "c54bd0b9",
   "metadata": {},
   "source": [
    "#### REVC: Complementing a Strand of DNA"
   ]
  },
  {
   "cell_type": "code",
   "execution_count": 6,
   "id": "92017840",
   "metadata": {},
   "outputs": [],
   "source": [
    "filename = f'{input_dir}rosalind_revc.txt'\n",
    "\n",
    "with open(filename, \"r\") as f:\n",
    "    seq = f.readline().upper().strip()\n",
    "\n",
    "def reverse(seq):\n",
    "    return seq[::-1]\n",
    "\n",
    "def complement(seq):\n",
    "    seq = seq.replace('A', 't')\n",
    "    seq = seq.replace('T', 'a')\n",
    "    seq = seq.replace('G', 'c')\n",
    "    seq = seq.replace('C', 'g')\n",
    "    return seq.upper()\n",
    "\n",
    "pyperclip.copy(complement(reverse(seq))) "
   ]
  },
  {
   "cell_type": "markdown",
   "id": "b2ea7bfb",
   "metadata": {},
   "source": [
    "#### FIB: Rabbits and Recurrence Relations"
   ]
  },
  {
   "cell_type": "markdown",
   "id": "1dc4f85a",
   "metadata": {},
   "source": [
    "If you are having trouble understanding the problem statement, feel free to contact teaching assistants. \n",
    "\n",
    "Here we are faced with a slightly abstract but interesting problem. Although in fact the idea underlying the problem is very often embedded in bioinformatics. Here are two ways to solve it: one is very simple and fast. However, remember the second solution as a template that will be very useful in complex cases with many inputs, conditions, and outcomes."
   ]
  },
  {
   "cell_type": "code",
   "execution_count": 7,
   "id": "3b927316",
   "metadata": {},
   "outputs": [
    {
     "name": "stdout",
     "output_type": "stream",
     "text": [
      "574888488199\n",
      "CPU times: total: 0 ns\n",
      "Wall time: 2 ms\n"
     ]
    }
   ],
   "source": [
    "%%time\n",
    "\n",
    "filename = f'{input_dir}rosalind_fib.txt'\n",
    "\n",
    "with open(filename, \"r\") as f:\n",
    "    n, k = map(int, f.readline().strip().split())\n",
    "\n",
    "F = [0]*(n+1)\n",
    "F[0] = 0\n",
    "F[1] = 1\n",
    "\n",
    "for i in range(2,n+1):\n",
    "    F[i] = F[i-1] + k*F[i-2]\n",
    "\n",
    "print(F[-1])\n",
    "pyperclip.copy(F[-1])"
   ]
  },
  {
   "cell_type": "code",
   "execution_count": 8,
   "id": "31ce245a",
   "metadata": {},
   "outputs": [
    {
     "name": "stdout",
     "output_type": "stream",
     "text": [
      "574888488199\n",
      "CPU times: total: 1.28 s\n",
      "Wall time: 1.28 s\n"
     ]
    }
   ],
   "source": [
    "%%time\n",
    "\n",
    "filename = f'{input_dir}rosalind_fib.txt'\n",
    "\n",
    "with open(filename, \"r\") as f:\n",
    "    n, k = map(int, f.readline().strip().split())\n",
    "\n",
    "\n",
    "def F(n, k):\n",
    "    if n == 0:\n",
    "        return 0\n",
    "    elif n == 1:\n",
    "        return 1\n",
    "    else:\n",
    "        return F(n-1,k) + k * F(n-2, k)\n",
    "\n",
    "    \n",
    "res = F(n,k)\n",
    "print(res)\n",
    "pyperclip.copy(res)"
   ]
  },
  {
   "cell_type": "markdown",
   "id": "3fa3174e",
   "metadata": {},
   "source": [
    "#### GC: Computing GC Content"
   ]
  },
  {
   "cell_type": "code",
   "execution_count": 9,
   "id": "52dec910",
   "metadata": {},
   "outputs": [
    {
     "name": "stdout",
     "output_type": "stream",
     "text": [
      "Rosalind_9288\n",
      "52.36051502145923\n"
     ]
    }
   ],
   "source": [
    "def gc_count(seq):\n",
    "    g = seq.upper().count('G')\n",
    "    c = seq.upper().count('C')\n",
    "    if len(seq) == 0:\n",
    "        return 0\n",
    "    gc = (g+c)*100/len(seq)\n",
    "    return gc\n",
    "\n",
    "names = []\n",
    "seqs = []\n",
    "filename = f'{input_dir}rosalind_gc.txt'\n",
    "\n",
    "with open(filename, \"r\") as f:\n",
    "    seq = ''\n",
    "    for line in f:\n",
    "        if not line.startswith(\">\"):\n",
    "            seq += line.strip()\n",
    "        else:\n",
    "            names.append(line.strip()[1:])\n",
    "            seqs.append(seq)\n",
    "            seq = ''\n",
    "    seqs.append(seq)\n",
    "\n",
    "seqs = seqs[1:]   \n",
    "\n",
    "_max = 0\n",
    "for seq in seqs:\n",
    "    if gc_count(seq) > _max:\n",
    "        _max = gc_count(seq)\n",
    "        index = seqs.index(seq)\n",
    "\n",
    "res = f'{names[index]}\\n{_max}'\n",
    "print(res)\n",
    "pyperclip.copy(res)"
   ]
  }
 ],
 "metadata": {
  "kernelspec": {
   "display_name": "Python 3 (ipykernel)",
   "language": "python",
   "name": "python3"
  },
  "language_info": {
   "codemirror_mode": {
    "name": "ipython",
    "version": 3
   },
   "file_extension": ".py",
   "mimetype": "text/x-python",
   "name": "python",
   "nbconvert_exporter": "python",
   "pygments_lexer": "ipython3",
   "version": "3.9.7"
  }
 },
 "nbformat": 4,
 "nbformat_minor": 5
}
