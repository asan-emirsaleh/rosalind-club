{
 "cells": [
  {
   "cell_type": "markdown",
   "id": "8893e8f0",
   "metadata": {
    "slideshow": {
     "slide_type": "slide"
    }
   },
   "source": [
    "# <center>  Anti-rosalind Rosalind club"
   ]
  },
  {
   "cell_type": "markdown",
   "id": "11171e50",
   "metadata": {
    "slideshow": {
     "slide_type": "-"
    }
   },
   "source": [
    "## Seminar 4, 18.11.2022\n",
    "\n",
    "This is the seminar on solving bioinformatics problems from [Rosalind](https://rosalind.info/problems/locations/) platform.\n",
    "\n",
    "Teching assistants:\n",
    "\n",
    "- Nikita Vaulin, Nikita.Vaulin@skoltech.ru, tg: @nvaulin\n",
    "    \n",
    "- Oksana Kotovskaya, Oksana.Kotovskaya@skoltech.ru"
   ]
  },
  {
   "cell_type": "markdown",
   "id": "51e5d0ff",
   "metadata": {},
   "source": [
    "### Python Memory\n",
    "\n",
    "Here some examples of functions that can be usefull if you want to look at how python work with memory"
   ]
  },
  {
   "cell_type": "code",
   "execution_count": 2,
   "id": "b9b84cc8",
   "metadata": {},
   "outputs": [],
   "source": [
    "import sys"
   ]
  },
  {
   "cell_type": "code",
   "execution_count": 32,
   "id": "b81a65b3",
   "metadata": {},
   "outputs": [
    {
     "name": "stdout",
     "output_type": "stream",
     "text": [
      "How many links are there to some objects in memory?\n",
      "a:  3\n",
      "0:  5569\n",
      "[0]:  2\n",
      "True:  6689\n",
      "False:  7978\n",
      "None: 36218\n"
     ]
    }
   ],
   "source": [
    "a = \"Rosalind\"\n",
    "b = 0 \n",
    "c = [b]\n",
    "print('How many links are there to some objects in memory?')\n",
    "print('a: ', sys.getrefcount(a))\n",
    "print('0: ', sys.getrefcount(b))\n",
    "print('[0]: ', sys.getrefcount(c))\n",
    "print('True: ', sys.getrefcount(True))\n",
    "print('False: ', sys.getrefcount(False))\n",
    "print('None:', sys.getrefcount(None))"
   ]
  },
  {
   "cell_type": "markdown",
   "id": "5e8705d3",
   "metadata": {},
   "source": [
    "##### Note!\n",
    "\n",
    "All the things below have different adresses in the memory"
   ]
  },
  {
   "cell_type": "code",
   "execution_count": 34,
   "id": "9b8aaecb",
   "metadata": {},
   "outputs": [
    {
     "name": "stdout",
     "output_type": "stream",
     "text": [
      "id(name_1)=2143842907184\n",
      "id(name_2)=2143842723248\n",
      "id(name_2.upper())=2143843001392\n"
     ]
    }
   ],
   "source": [
    "name_1 = 'Petr'\n",
    "name_2 = 'Petya'\n",
    "print(f'{id(name_1)=}\\n{id(name_2)=}\\n{id(name_2.upper())=}')"
   ]
  },
  {
   "cell_type": "markdown",
   "id": "d6471043",
   "metadata": {},
   "source": [
    "Another example:"
   ]
  },
  {
   "cell_type": "code",
   "execution_count": 36,
   "id": "74655ae0",
   "metadata": {},
   "outputs": [
    {
     "name": "stdout",
     "output_type": "stream",
     "text": [
      "id(name_1_list)=2143842061568\n",
      "id(name_2_list)=2143843058560\n"
     ]
    }
   ],
   "source": [
    "name_1_list = ['Petr']\n",
    "name_2_list = ['Petr']\n",
    "print(f'{id(name_1_list)=}\\n{id(name_2_list)=}')"
   ]
  },
  {
   "cell_type": "markdown",
   "id": "ce42d2c3",
   "metadata": {},
   "source": [
    "**They are different!!!**\n",
    "\n",
    "How can we compare things?"
   ]
  },
  {
   "cell_type": "code",
   "execution_count": 38,
   "id": "ddbaf743",
   "metadata": {},
   "outputs": [
    {
     "name": "stdout",
     "output_type": "stream",
     "text": [
      "True\n",
      "False\n"
     ]
    }
   ],
   "source": [
    "print(name_1_list == name_2_list)\n",
    "print(name_1_list is name_2_list) # Here it's about ID's comparing :)"
   ]
  },
  {
   "cell_type": "code",
   "execution_count": 41,
   "id": "3dd27161",
   "metadata": {},
   "outputs": [
    {
     "name": "stdout",
     "output_type": "stream",
     "text": [
      "list_for_append=[], id(list_for_append)=2143855269952\n",
      "list_for_append=[2], id(list_for_append)=2143855269952\n"
     ]
    }
   ],
   "source": [
    "list_for_append = []\n",
    "print(f'{list_for_append=}, {id(list_for_append)=}')\n",
    "list_for_append.append(2)\n",
    "print(f'{list_for_append=}, {id(list_for_append)=}')"
   ]
  },
  {
   "cell_type": "markdown",
   "id": "251aad4c",
   "metadata": {},
   "source": [
    "**They are the same!!!**"
   ]
  },
  {
   "cell_type": "markdown",
   "id": "5d8159bb",
   "metadata": {},
   "source": [
    "### #2. Bioinformatics Stronghold"
   ]
  },
  {
   "cell_type": "markdown",
   "id": "2082fd49",
   "metadata": {},
   "source": [
    "SPECIFY YOUT INPUT DATA FOLDER:"
   ]
  },
  {
   "cell_type": "code",
   "execution_count": 49,
   "id": "10b7de76",
   "metadata": {},
   "outputs": [],
   "source": [
    "import os\n",
    "\n",
    "\n",
    "input_dir = 'data' #name"
   ]
  },
  {
   "cell_type": "markdown",
   "id": "247d0d7b",
   "metadata": {},
   "source": [
    "#### FIBD"
   ]
  },
  {
   "cell_type": "code",
   "execution_count": null,
   "id": "de0e9d17",
   "metadata": {},
   "outputs": [],
   "source": [
    "def mortal_fibbo_rabbits_count(n: int, m: int) -> int:\n",
    "    population = [[0] * m for _ in range(n + 1)]\n",
    "\n",
    "    population[0][0] = 0\n",
    "    population[1][0] = 1\n",
    "\n",
    "    for month in range(2, n + 1):\n",
    "        for age in range(0, m):\n",
    "            if age == 0:\n",
    "                population[month][age] = sum(population[month - 1][1:])\n",
    "            else:\n",
    "                population[month][age] = population[month - 1][age - 1]\n",
    "\n",
    "    return sum(population[-1])\n",
    "\n",
    "file_name = os.path.join(input_dir, 'rosalind_fibd.txt' )\n",
    "\n",
    "assert mortal_fibbo_rabbits_count(6, 3) == 4\n",
    "\n",
    "with open(file_name, 'r') as in_f:\n",
    "    line = in_f.readline()\n",
    "    n, m = [int(i) for i in line.strip().split()]\n",
    "print(mortal_fibbo_rabbits_count(n, m))"
   ]
  },
  {
   "cell_type": "markdown",
   "id": "806b8dd6",
   "metadata": {},
   "source": [
    "#### PRTM"
   ]
  },
  {
   "cell_type": "code",
   "execution_count": null,
   "id": "db00ad42",
   "metadata": {},
   "outputs": [],
   "source": [
    "import csv\n",
    "\n",
    "\n",
    "def get_mass(seq: str) -> float:\n",
    "    table = {}\n",
    "    with open(os.path.join('data', 'monoisotropic_mass.tsv'), 'r') as tab:\n",
    "        csv_f = csv.reader(tab, delimiter='\\t')\n",
    "        for row in csv_f:\n",
    "            table[row[0]] = float(row[1])\n",
    "    mass = 0\n",
    "    for aa in seq:\n",
    "        mass += table[aa]\n",
    "    return round(mass, 3)\n",
    "\n",
    "\n",
    "def get_seq(file: str) -> str:\n",
    "    seq = ''\n",
    "    with open(file, 'r') as in_f:\n",
    "        for line in in_f:\n",
    "            seq += line.strip()\n",
    "            \n",
    "    return seq\n",
    "\n",
    "\n",
    "file_name = os.path.join(input_dir, 'rosalind_prtm.txt')\n",
    "seq = get_seq(file_name)\n",
    "get_mass(seq)"
   ]
  }
 ],
 "metadata": {
  "celltoolbar": "Необработанный формат ячейки",
  "kernelspec": {
   "display_name": "Python 3 (ipykernel)",
   "language": "python",
   "name": "python3"
  },
  "language_info": {
   "codemirror_mode": {
    "name": "ipython",
    "version": 3
   },
   "file_extension": ".py",
   "mimetype": "text/x-python",
   "name": "python",
   "nbconvert_exporter": "python",
   "pygments_lexer": "ipython3",
   "version": "3.9.10"
  }
 },
 "nbformat": 4,
 "nbformat_minor": 5
}
